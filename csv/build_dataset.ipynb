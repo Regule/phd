{
 "cells": [
  {
   "cell_type": "markdown",
   "metadata": {},
   "source": [
    "# Dataset builder\n",
    "This code is used for building a single dataset from individual readouts. Dataset will have following columns\n",
    " - Timestamp - a linux epoch timestamp for a measurement\n",
    " - IGU - a IGU rapid predicted half\n",
    " - LSTM - a LSTM made prediction\n",
    " - Reference - a reference value"
   ]
  },
  {
   "cell_type": "code",
   "execution_count": 2,
   "metadata": {},
   "outputs": [
    {
     "name": "stderr",
     "output_type": "stream",
     "text": [
      "Matplotlib is building the font cache; this may take a moment.\n"
     ]
    }
   ],
   "source": [
    "import pandas as pd\n",
    "import seaborn as sns"
   ]
  },
  {
   "cell_type": "code",
   "execution_count": 3,
   "metadata": {},
   "outputs": [],
   "source": [
    "IGU_DIR = 'igu_predicted'\n",
    "LSTM_DIR = 'lstm_predicted'\n",
    "PREDICTION_INITIALIZER_DIR = 'prediction_input'\n",
    "REFERENCE_DIR = 'reference'\n",
    "TRAINING_DIR = 'training'"
   ]
  },
  {
   "cell_type": "code",
   "execution_count": null,
   "metadata": {},
   "outputs": [],
   "source": []
  }
 ],
 "metadata": {
  "kernelspec": {
   "display_name": "Python 3",
   "language": "python",
   "name": "python3"
  },
  "language_info": {
   "codemirror_mode": {
    "name": "ipython",
    "version": 3
   },
   "file_extension": ".py",
   "mimetype": "text/x-python",
   "name": "python",
   "nbconvert_exporter": "python",
   "pygments_lexer": "ipython3",
   "version": "3.8.5"
  }
 },
 "nbformat": 4,
 "nbformat_minor": 4
}
